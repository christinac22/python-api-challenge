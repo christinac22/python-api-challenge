{
 "cells": [
  {
   "cell_type": "markdown",
   "metadata": {},
   "source": [
    "# WeatherPy\n",
    "----\n",
    "\n",
    "#### Note\n",
    "* Instructions have been included for each segment. You do not have to follow them exactly, but they are included to help you think through the steps."
   ]
  },
  {
   "cell_type": "code",
   "execution_count": 86,
   "metadata": {
    "scrolled": true
   },
   "outputs": [],
   "source": [
    "# Dependencies and Setup\n",
    "import matplotlib.pyplot as plt\n",
    "import pandas as pd\n",
    "import numpy as np\n",
    "import requests\n",
    "import time\n",
    "import json\n",
    "from scipy.stats import linregress\n",
    "\n",
    "# Import API key\n",
    "from api_keys import weather_api_key\n",
    "\n",
    "# Incorporated citipy to determine city based on latitude and longitude\n",
    "from citipy import citipy\n",
    "\n",
    "# Output File (CSV)\n",
    "output_data_file = \"output_data/cities.csv\"\n",
    "\n",
    "# Range of latitudes and longitudes\n",
    "lat_range = (-90, 90)\n",
    "lng_range = (-180, 180)"
   ]
  },
  {
   "cell_type": "markdown",
   "metadata": {},
   "source": [
    "## Generate Cities List"
   ]
  },
  {
   "cell_type": "code",
   "execution_count": 4,
   "metadata": {},
   "outputs": [
    {
     "data": {
      "text/plain": [
       "601"
      ]
     },
     "execution_count": 4,
     "metadata": {},
     "output_type": "execute_result"
    }
   ],
   "source": [
    "# List for holding lat_lngs and cities\n",
    "lat_lngs = []\n",
    "cities = []\n",
    "\n",
    "# Create a set of random lat and lng combinations\n",
    "lats = np.random.uniform(lat_range[0], lat_range[1], size=1500)\n",
    "lngs = np.random.uniform(lng_range[0], lng_range[1], size=1500)\n",
    "lat_lngs = zip(lats, lngs)\n",
    "\n",
    "# Identify nearest city for each lat, lng combination\n",
    "for lat_lng in lat_lngs:\n",
    "    city = citipy.nearest_city(lat_lng[0], lat_lng[1]).city_name\n",
    "    \n",
    "    # If the city is unique, then add it to a our cities list\n",
    "    if city not in cities:\n",
    "        cities.append(city)\n",
    "\n",
    "# Print the city count to confirm sufficient count\n",
    "len(cities)"
   ]
  },
  {
   "cell_type": "markdown",
   "metadata": {},
   "source": [
    "### Perform API Calls\n",
    "* Perform a weather check on each city using a series of successive API calls.\n",
    "* Include a print log of each city as it'sbeing processed (with the city number and city name).\n",
    "\n",
    "> **HINT:** The OpenWeatherMap API only allows 60 calls per minute under their free plan. Try using `time.sleep(60)` after each set of 50 cities to avoid API errors due to large calls."
   ]
  },
  {
   "cell_type": "code",
   "execution_count": 5,
   "metadata": {},
   "outputs": [
    {
     "name": "stdout",
     "output_type": "stream",
     "text": [
      "{\n",
      "    \"base\": \"stations\",\n",
      "    \"clouds\": {\n",
      "        \"all\": 75\n",
      "    },\n",
      "    \"cod\": 200,\n",
      "    \"coord\": {\n",
      "        \"lat\": 4.9333,\n",
      "        \"lon\": -52.3333\n",
      "    },\n",
      "    \"dt\": 1645069547,\n",
      "    \"id\": 3382160,\n",
      "    \"main\": {\n",
      "        \"feels_like\": 26.16,\n",
      "        \"humidity\": 84,\n",
      "        \"pressure\": 1013,\n",
      "        \"temp\": 26.16,\n",
      "        \"temp_max\": 26.16,\n",
      "        \"temp_min\": 24.02\n",
      "    },\n",
      "    \"name\": \"Cayenne\",\n",
      "    \"sys\": {\n",
      "        \"country\": \"GF\",\n",
      "        \"id\": 2038747,\n",
      "        \"sunrise\": 1645091056,\n",
      "        \"sunset\": 1645134162,\n",
      "        \"type\": 2\n",
      "    },\n",
      "    \"timezone\": -10800,\n",
      "    \"visibility\": 10000,\n",
      "    \"weather\": [\n",
      "        {\n",
      "            \"description\": \"broken clouds\",\n",
      "            \"icon\": \"04n\",\n",
      "            \"id\": 803,\n",
      "            \"main\": \"Clouds\"\n",
      "        }\n",
      "    ],\n",
      "    \"wind\": {\n",
      "        \"deg\": 0,\n",
      "        \"speed\": 1.54\n",
      "    }\n",
      "}\n"
     ]
    }
   ],
   "source": [
    "# Get Weather Data \n",
    "url = \"http://api.openweathermap.org/data/2.5/weather?\"\n",
    "units = \"metric\"\n",
    "query_url = f\"{url}appid={weather_api_key}&units={units}&q=\"\n",
    "\n",
    "# Pretty print JSON \n",
    "weather_response_json = requests.get(query_url + city).json()\n",
    "print(json.dumps(weather_response_json, indent=4, sort_keys=True))"
   ]
  },
  {
   "cell_type": "code",
   "execution_count": 6,
   "metadata": {},
   "outputs": [
    {
     "name": "stdout",
     "output_type": "stream",
     "text": [
      "<Response [200]>\n"
     ]
    }
   ],
   "source": [
    "print(requests.get(query_url+city))"
   ]
  },
  {
   "cell_type": "code",
   "execution_count": 7,
   "metadata": {},
   "outputs": [
    {
     "name": "stdout",
     "output_type": "stream",
     "text": [
      "Beginning Data Retrieval\n",
      "-------------------------------\n",
      "Processing Record 1 | Mirny\n",
      "Processing Record 2 | Geraldton\n",
      "Processing Record 3 | Cabo San Lucas\n",
      "Processing Record 4 | Cayenne\n",
      "Processing Record 5 | Nang Rong\n",
      "Processing Record 6 | New Norfolk\n",
      "Processing Record 7 | Seddon\n",
      "Processing Record 8 | Punta Arenas\n",
      "Processing Record 9 | Ushuaia\n",
      "Processing Record 10 | Tena\n",
      "Processing Record 11 | Inírida\n",
      "Processing Record 12 | Salalah\n",
      "Processing Record 13 | Tonekābon\n",
      "Processing Record 14 | Flinders\n",
      "City not found. Skipping...\n",
      "City not found. Skipping...\n",
      "Processing Record 15 | Yellowknife\n",
      "Processing Record 16 | Jalu\n",
      "Processing Record 17 | Mar del Plata\n",
      "Processing Record 18 | Nikolskoye\n",
      "Processing Record 19 | Hobart\n",
      "Processing Record 20 | Saskylakh\n",
      "Processing Record 21 | Faya\n",
      "Processing Record 22 | Celestún\n",
      "Processing Record 23 | Atuona\n",
      "Processing Record 24 | Kavieng\n",
      "City not found. Skipping...\n",
      "Processing Record 25 | Winsum\n",
      "Processing Record 26 | Avarua\n",
      "Processing Record 27 | Santa Cruz de la Sierra\n",
      "Processing Record 28 | Hīt\n",
      "Processing Record 29 | Pitimbu\n",
      "Processing Record 30 | Rikitea\n",
      "City not found. Skipping...\n",
      "Processing Record 31 | Dikson\n",
      "Processing Record 32 | Lashio\n",
      "Processing Record 33 | Tuatapere\n",
      "Processing Record 34 | Nanortalik\n",
      "Processing Record 35 | Kérouané\n",
      "Processing Record 36 | Jamestown\n",
      "Processing Record 37 | Sibolga\n",
      "Processing Record 38 | George Town\n",
      "Processing Record 39 | Mataura\n",
      "Processing Record 40 | Chui\n",
      "Processing Record 41 | Vikulovo\n",
      "City not found. Skipping...\n",
      "Processing Record 42 | Sola\n",
      "Processing Record 43 | Karratha\n",
      "Processing Record 44 | Kimbe\n",
      "Processing Record 45 | Bambous Virieux\n",
      "City not found. Skipping...\n",
      "Processing Record 46 | Saint George\n",
      "Processing Record 47 | The Valley\n",
      "Processing Record 48 | Saint-Philippe\n",
      "City not found. Skipping...\n",
      "Processing Record 49 | Aasiaat\n",
      "Processing Record 50 | Castro\n",
      "Processing Record 51 | Nayoro\n",
      "Processing Record 52 | Saint Paul Harbor\n",
      "Processing Record 53 | Severo-Kuril'sk\n",
      "City not found. Skipping...\n",
      "Processing Record 54 | Vaini\n",
      "Processing Record 55 | San Cristobal\n",
      "Processing Record 56 | Souillac\n",
      "Processing Record 57 | Saint-François\n",
      "Processing Record 58 | Poum\n",
      "City not found. Skipping...\n",
      "Processing Record 59 | Ribeira Grande\n",
      "Processing Record 60 | Kruisfontein\n",
      "Processing Record 61 | San Andrés\n",
      "Processing Record 62 | Carnarvon\n",
      "Processing Record 63 | Khatanga\n",
      "Processing Record 64 | Hūn\n",
      "Processing Record 65 | Hilo\n",
      "Processing Record 66 | Tiksi\n",
      "City not found. Skipping...\n",
      "Processing Record 67 | Prado\n",
      "Processing Record 68 | São Filipe\n",
      "Processing Record 69 | Dolores\n",
      "Processing Record 70 | Vao\n",
      "City not found. Skipping...\n",
      "Processing Record 71 | Kaitangata\n",
      "Processing Record 72 | Saint Anthony\n",
      "Processing Record 73 | Dudinka\n",
      "Processing Record 74 | Toora-Khem\n",
      "Processing Record 75 | Alépé\n",
      "City not found. Skipping...\n",
      "Processing Record 76 | Airai\n",
      "Processing Record 77 | Thompson\n",
      "Processing Record 78 | Albany\n",
      "City not found. Skipping...\n",
      "Processing Record 79 | Yerofey Pavlovich\n",
      "Processing Record 80 | Qaanaaq\n",
      "Processing Record 81 | Ugoofaaru\n",
      "Processing Record 82 | Teguise\n",
      "City not found. Skipping...\n",
      "City not found. Skipping...\n",
      "Processing Record 83 | Peniche\n",
      "Processing Record 84 | Chokurdakh\n",
      "Processing Record 85 | Busselton\n",
      "Processing Record 86 | Shahrud\n",
      "Processing Record 87 | Savannah Bight\n",
      "Processing Record 88 | Cidreira\n",
      "Processing Record 89 | Maumere\n",
      "Processing Record 90 | Bluff\n",
      "Processing Record 91 | Rockland\n",
      "Processing Record 92 | Mahébourg\n",
      "City not found. Skipping...\n",
      "Processing Record 93 | Río Gallegos\n",
      "Processing Record 94 | Butaritari\n",
      "Processing Record 95 | Kapaa\n",
      "Processing Record 96 | La Ronge\n",
      "Processing Record 97 | Chapais\n",
      "Processing Record 98 | Lorengau\n",
      "Processing Record 99 | Port Alfred\n",
      "City not found. Skipping...\n",
      "Processing Record 100 | Upernavik\n",
      "Processing Record 101 | Cape Town\n",
      "City not found. Skipping...\n",
      "Processing Record 102 | Esperance\n",
      "Processing Record 103 | Hurghada\n",
      "Processing Record 104 | Hermanus\n",
      "Processing Record 105 | Wyndham\n",
      "Processing Record 106 | Port Augusta\n",
      "Processing Record 107 | Kutum\n",
      "Processing Record 108 | Port Hardy\n",
      "Processing Record 109 | Sinjār\n",
      "Processing Record 110 | Vila Velha\n",
      "Processing Record 111 | Nome\n",
      "Processing Record 112 | Porto-Novo\n",
      "City not found. Skipping...\n",
      "Processing Record 113 | East London\n",
      "Processing Record 114 | Lavrentiya\n",
      "Processing Record 115 | Santa Cruz Cabrália\n",
      "Processing Record 116 | Zwedru\n",
      "Processing Record 117 | Te Anau\n",
      "Processing Record 118 | Waipawa\n",
      "Processing Record 119 | Maniitsoq\n",
      "Processing Record 120 | Ponta do Sol\n",
      "Processing Record 121 | Krutinka\n",
      "Processing Record 122 | Bengkulu\n",
      "Processing Record 123 | Anloga\n",
      "Processing Record 124 | Ust'-Kulom\n",
      "Processing Record 125 | Ancud\n",
      "Processing Record 126 | Alta Floresta\n",
      "Processing Record 127 | Viedma\n",
      "Processing Record 128 | Dhidhdhoo\n",
      "Processing Record 129 | Clyde River\n",
      "Processing Record 130 | Lompoc\n",
      "Processing Record 131 | Constitución\n",
      "Processing Record 132 | Kinkala\n",
      "Processing Record 133 | Touros\n",
      "Processing Record 134 | Bredasdorp\n",
      "Processing Record 135 | Kulhudhuffushi\n",
      "Processing Record 136 | Issia\n",
      "Processing Record 137 | Sørland\n",
      "Processing Record 138 | Tual\n",
      "Processing Record 139 | Itarema\n",
      "Processing Record 140 | Arraial do Cabo\n",
      "Processing Record 141 | Wajir\n",
      "City not found. Skipping...\n",
      "Processing Record 142 | Tilichiki\n",
      "Processing Record 143 | Saldanha\n",
      "Processing Record 144 | General Roca\n",
      "Processing Record 145 | Camocim\n",
      "Processing Record 146 | Kashary\n",
      "Processing Record 147 | Brigantine\n",
      "Processing Record 148 | Okhotsk\n",
      "Processing Record 149 | Longyearbyen\n",
      "Processing Record 150 | Katsuura\n",
      "City not found. Skipping...\n",
      "Processing Record 151 | Port Blair\n",
      "Processing Record 152 | Cúcuta\n",
      "Processing Record 153 | Yulara\n",
      "Processing Record 154 | Pemangkat\n",
      "Processing Record 155 | Normandin\n",
      "Processing Record 156 | Tasiilaq\n",
      "Processing Record 157 | Puerto Gaitán\n",
      "Processing Record 158 | Sainte-Rose\n",
      "Processing Record 159 | Luau\n",
      "Processing Record 160 | Fuxin\n",
      "City not found. Skipping...\n",
      "Processing Record 161 | Tuktoyaktuk\n",
      "Processing Record 162 | Vráble\n",
      "City not found. Skipping...\n",
      "Processing Record 163 | Guntakal\n",
      "Processing Record 164 | Sarakhs\n",
      "Processing Record 165 | Porto Walter\n",
      "Processing Record 166 | São José da Coroa Grande\n",
      "Processing Record 167 | São João da Barra\n",
      "Processing Record 168 | Bull Savanna\n",
      "Processing Record 169 | Provideniya\n",
      "Processing Record 170 | Opuwo\n",
      "Processing Record 171 | Coos Bay\n",
      "Processing Record 172 | Sinnamary\n",
      "Processing Record 173 | Norman Wells\n",
      "City not found. Skipping...\n",
      "City not found. Skipping...\n",
      "Processing Record 174 | Comodoro Rivadavia\n",
      "Processing Record 175 | Fortuna\n",
      "Processing Record 176 | Dire Dawa\n",
      "Processing Record 177 | Benghazi\n",
      "Processing Record 178 | Salto de Pirapora\n",
      "Processing Record 179 | Coquimbo\n",
      "Processing Record 180 | Faanui\n",
      "Processing Record 181 | Lohāru\n",
      "Processing Record 182 | Penzance\n",
      "Processing Record 183 | Torbay\n",
      "Processing Record 184 | Humaitá\n",
      "Processing Record 185 | Ulladulla\n",
      "Processing Record 186 | Sawākin\n",
      "Processing Record 187 | Bethel\n",
      "Processing Record 188 | Seydi\n",
      "Processing Record 189 | Hithadhoo\n",
      "Processing Record 190 | Adeje\n",
      "Processing Record 191 | Lebu\n",
      "Processing Record 192 | Çan\n",
      "Processing Record 193 | Mujiayingzi\n",
      "Processing Record 194 | Paka\n",
      "Processing Record 195 | Hasaki\n",
      "Processing Record 196 | Tuzsér\n",
      "Processing Record 197 | San Policarpo\n",
      "City not found. Skipping...\n",
      "Processing Record 198 | Tanout\n",
      "Processing Record 199 | Hobyo\n",
      "Processing Record 200 | Skellefteå\n",
      "Processing Record 201 | Talnakh\n",
      "Processing Record 202 | Vardø\n",
      "Processing Record 203 | Goba\n",
      "Processing Record 204 | Khandyga\n",
      "Processing Record 205 | Korla\n",
      "Processing Record 206 | Oktyabr'skiy\n",
      "Processing Record 207 | Westport\n",
      "Processing Record 208 | Vestmannaeyjar\n",
      "Processing Record 209 | Nachingwea\n",
      "Processing Record 210 | Kapoeta\n",
      "Processing Record 211 | Puerto Escondido\n",
      "Processing Record 212 | Rājāpur\n",
      "Processing Record 213 | Røros\n",
      "Processing Record 214 | Périgueux\n",
      "Processing Record 215 | Hualmay\n",
      "Processing Record 216 | Hong Kong\n",
      "City not found. Skipping...\n",
      "Processing Record 217 | Hakkâri Province\n",
      "Processing Record 218 | Tonantins\n",
      "Processing Record 219 | Gorontalo\n",
      "Processing Record 220 | Guerrero Negro\n",
      "Processing Record 221 | Sibu\n",
      "Processing Record 222 | Marsh Harbour\n",
      "Processing Record 223 | Quatre Cocos\n"
     ]
    },
    {
     "name": "stdout",
     "output_type": "stream",
     "text": [
      "Processing Record 224 | Iqaluit\n",
      "Processing Record 225 | Ixtapa\n",
      "Processing Record 226 | Kalamb\n",
      "Processing Record 227 | Arman'\n",
      "Processing Record 228 | Husavik\n",
      "Processing Record 229 | Singaparna\n",
      "Processing Record 230 | Marystown\n",
      "Processing Record 231 | Beringovskiy\n",
      "Processing Record 232 | Ambilobe\n",
      "Processing Record 233 | Ust'-Karsk\n",
      "Processing Record 234 | Narsaq\n",
      "Processing Record 235 | Hamilton\n",
      "Processing Record 236 | Oranjestad\n",
      "Processing Record 237 | San Patricio\n",
      "City not found. Skipping...\n",
      "Processing Record 238 | Bubaque\n",
      "Processing Record 239 | Dunedin\n",
      "Processing Record 240 | Bathsheba\n",
      "Processing Record 241 | Sawtell\n",
      "Processing Record 242 | Mount Gambier\n",
      "Processing Record 243 | Anadyr\n",
      "Processing Record 244 | Port Elizabeth\n",
      "Processing Record 245 | Ayr\n",
      "Processing Record 246 | Padang\n",
      "Processing Record 247 | Melito di Porto Salvo\n",
      "Processing Record 248 | Gawler\n",
      "Processing Record 249 | Mongoumba\n",
      "Processing Record 250 | Barrow\n",
      "Processing Record 251 | Sapucaia\n",
      "Processing Record 252 | Pangai\n",
      "Processing Record 253 | Nouadhibou\n",
      "Processing Record 254 | Dul'durga\n",
      "City not found. Skipping...\n",
      "Processing Record 255 | Batemans Bay\n",
      "Processing Record 256 | Los Llanos de Aridane\n",
      "City not found. Skipping...\n",
      "Processing Record 257 | Alexandria\n",
      "Processing Record 258 | Yenagoa\n",
      "Processing Record 259 | Gornyak\n",
      "Processing Record 260 | Leningradskiy\n",
      "City not found. Skipping...\n",
      "Processing Record 261 | Yabrūd\n",
      "Processing Record 262 | Codrington\n",
      "Processing Record 263 | Tazovsky\n",
      "Processing Record 264 | Henties Bay\n",
      "Processing Record 265 | Meulaboh\n",
      "Processing Record 266 | Aksarka\n",
      "Processing Record 267 | Tura\n",
      "Processing Record 268 | Caucayá\n",
      "Processing Record 269 | Searcy\n",
      "Processing Record 270 | Honningsvåg\n",
      "City not found. Skipping...\n",
      "Processing Record 271 | Khani\n",
      "Processing Record 272 | Liwale\n",
      "Processing Record 273 | Fairbanks\n",
      "Processing Record 274 | Ha Tinh\n",
      "Processing Record 275 | Grass Valley\n",
      "City not found. Skipping...\n",
      "Processing Record 276 | Lüderitz\n",
      "City not found. Skipping...\n",
      "City not found. Skipping...\n",
      "Processing Record 277 | Ābādān\n",
      "Processing Record 278 | Biak\n",
      "Processing Record 279 | Hanna\n",
      "Processing Record 280 | Sorsk\n",
      "Processing Record 281 | Columbus\n",
      "Processing Record 282 | Blagoveshchenka\n",
      "Processing Record 283 | Mjölby\n",
      "Processing Record 284 | Stony Point\n",
      "Processing Record 285 | Puerto Ayora\n",
      "Processing Record 286 | Bandarbeyla\n",
      "Processing Record 287 | Gigmoto\n",
      "Processing Record 288 | Masuguru\n",
      "Processing Record 289 | Am Timan\n",
      "Processing Record 290 | Nhamundá\n",
      "Processing Record 291 | Christchurch\n",
      "Processing Record 292 | Deming\n",
      "Processing Record 293 | Salta\n",
      "Processing Record 294 | Kahului\n",
      "Processing Record 295 | Culebra\n",
      "Processing Record 296 | Leh\n",
      "Processing Record 297 | Portland\n",
      "Processing Record 298 | Makakilo City\n",
      "Processing Record 299 | Yatou\n",
      "Processing Record 300 | San Rafael\n",
      "Processing Record 301 | Cam Ranh\n",
      "Processing Record 302 | Pouébo\n",
      "Processing Record 303 | Tangi\n",
      "Processing Record 304 | Makkah al Mukarramah\n",
      "Processing Record 305 | Bayangol\n",
      "Processing Record 306 | Ormara\n",
      "Processing Record 307 | Tabou\n",
      "Processing Record 308 | Avera\n",
      "Processing Record 309 | San Miguel de Tucumán\n",
      "City not found. Skipping...\n",
      "Processing Record 310 | Kirakira\n",
      "Processing Record 311 | Sabang\n",
      "Processing Record 312 | Oranjemund\n",
      "Processing Record 313 | Nizwá\n",
      "Processing Record 314 | Mapiri\n",
      "Processing Record 315 | Champerico\n",
      "Processing Record 316 | Mayo\n",
      "Processing Record 317 | Nguru\n",
      "Processing Record 318 | Berezanskaya\n",
      "Processing Record 319 | Biograd na Moru\n",
      "Processing Record 320 | Antofagasta\n",
      "Processing Record 321 | Banda Aceh\n",
      "Processing Record 322 | Rocha\n",
      "Processing Record 323 | São Miguel do Araguaia\n",
      "Processing Record 324 | Hambantota\n",
      "Processing Record 325 | Hofn\n",
      "Processing Record 326 | Coventry\n",
      "Processing Record 327 | Fort Nelson\n",
      "Processing Record 328 | Pravia\n",
      "City not found. Skipping...\n",
      "Processing Record 329 | Kapustin Yar\n",
      "Processing Record 330 | Arona\n",
      "Processing Record 331 | Winnemucca\n",
      "City not found. Skipping...\n",
      "Processing Record 332 | Agua Verde\n",
      "Processing Record 333 | Baijiantan\n",
      "Processing Record 334 | Midland\n",
      "Processing Record 335 | Flin Flon\n",
      "Processing Record 336 | Grafton\n",
      "Processing Record 337 | Arrondissement de Pontivy\n",
      "Processing Record 338 | Port Moresby\n",
      "Processing Record 339 | Leshukonskoye\n",
      "Processing Record 340 | La Paz\n",
      "Processing Record 341 | Oistins\n",
      "Processing Record 342 | Prince Rupert\n",
      "Processing Record 343 | Noumea\n",
      "Processing Record 344 | Nyrob\n",
      "Processing Record 345 | Wenling\n",
      "Processing Record 346 | Port Lincoln\n",
      "Processing Record 347 | Tingi\n",
      "Processing Record 348 | Santa Isabel Rio Negro\n",
      "Processing Record 349 | Mount Isa\n",
      "Processing Record 350 | Savonlinna\n",
      "Processing Record 351 | Adrar\n",
      "Processing Record 352 | Salinópolis\n",
      "Processing Record 353 | Benguela\n",
      "Processing Record 354 | Pisco\n",
      "Processing Record 355 | Malaya Serdoba\n",
      "Processing Record 356 | San Carlos del Zulia\n",
      "Processing Record 357 | Ngunguru\n",
      "Processing Record 358 | Breytovo\n",
      "Processing Record 359 | Brae\n",
      "Processing Record 360 | Kerman\n",
      "Processing Record 361 | Seoul\n",
      "Processing Record 362 | Carbonia\n",
      "Processing Record 363 | Richards Bay\n",
      "Processing Record 364 | Rapid Valley\n",
      "Processing Record 365 | Nevel'sk\n",
      "Processing Record 366 | Sakakah\n",
      "Processing Record 367 | Sulphur Springs\n",
      "Processing Record 368 | Mehrān\n",
      "Processing Record 369 | Palafrugell\n",
      "Processing Record 370 | Coyhaique\n",
      "Processing Record 371 | Xining\n",
      "Processing Record 372 | Acaraú\n",
      "Processing Record 373 | Vila Franca do Campo\n",
      "Processing Record 374 | Havelock\n",
      "Processing Record 375 | Calvinia\n",
      "Processing Record 376 | Klaksvík\n",
      "Processing Record 377 | Mackenzie\n",
      "Processing Record 378 | Skjervøy\n",
      "Processing Record 379 | Bilibino\n",
      "Processing Record 380 | Dingle\n",
      "Processing Record 381 | Atar\n",
      "Processing Record 382 | Labuhan\n",
      "Processing Record 383 | Kumul\n",
      "Processing Record 384 | Mossamedes\n",
      "Processing Record 385 | Stepnyak\n",
      "Processing Record 386 | Araouane\n",
      "Processing Record 387 | Arrondissement de Carpentras\n",
      "Processing Record 388 | Tautira\n",
      "Processing Record 389 | Muros\n",
      "Processing Record 390 | Tefé\n",
      "Processing Record 391 | Oktyabr'skoye\n",
      "Processing Record 392 | Dalby\n",
      "Processing Record 393 | Cabedelo\n",
      "Processing Record 394 | Belmonte\n",
      "Processing Record 395 | Krasnosel'kup\n",
      "Processing Record 396 | Kenai\n",
      "Processing Record 397 | Tabuk\n",
      "Processing Record 398 | Zhangjiakou\n",
      "Processing Record 399 | Zaysan\n",
      "Processing Record 400 | Namatanai\n",
      "Processing Record 401 | Kashgar\n",
      "Processing Record 402 | Usevya\n",
      "Processing Record 403 | Alice Springs\n",
      "Processing Record 404 | Bossangoa\n",
      "Processing Record 405 | Francisco Sá\n",
      "Processing Record 406 | Puerto Baquerizo Moreno\n",
      "Processing Record 407 | Rafai\n",
      "Processing Record 408 | Verāval\n",
      "Processing Record 409 | Grand-Santi\n",
      "City not found. Skipping...\n",
      "City not found. Skipping...\n",
      "Processing Record 410 | Urengoy\n",
      "Processing Record 411 | Mackay\n",
      "Processing Record 412 | Kiryat Gat\n",
      "Processing Record 413 | Sur\n",
      "Processing Record 414 | Haines Junction\n",
      "Processing Record 415 | Atyrau\n",
      "Processing Record 416 | Bahía Solano\n",
      "Processing Record 417 | Semnan\n",
      "Processing Record 418 | Slobidka\n",
      "Processing Record 419 | Batticaloa\n",
      "City not found. Skipping...\n",
      "Processing Record 420 | Stutterheim\n",
      "Processing Record 421 | Chernihiv\n",
      "Processing Record 422 | Corrente\n",
      "Processing Record 423 | Muhos\n",
      "Processing Record 424 | Tiznit Province\n",
      "Processing Record 425 | Zhaoyuan\n",
      "Processing Record 426 | Mahon\n",
      "Processing Record 427 | Beyneu\n",
      "Processing Record 428 | Tshane\n",
      "Processing Record 429 | Almansa\n",
      "Processing Record 430 | Saint-Joseph\n",
      "Processing Record 431 | Luanda\n",
      "Processing Record 432 | Pacific Grove\n",
      "Processing Record 433 | Port-Gentil\n",
      "Processing Record 434 | Antalaha\n",
      "Processing Record 435 | Morondava\n",
      "Processing Record 436 | College\n",
      "Processing Record 437 | Mitsamiouli\n",
      "Processing Record 438 | Yar-Sale\n",
      "Processing Record 439 | Talaya\n",
      "Processing Record 440 | Monte Plata\n",
      "Processing Record 441 | Titisee-Neustadt\n",
      "Processing Record 442 | Lata\n",
      "Processing Record 443 | Korhogo\n",
      "Processing Record 444 | Mogzon\n",
      "Processing Record 445 | Zelenoborskiy\n",
      "Processing Record 446 | Gogrial\n",
      "Processing Record 447 | Ilulissat\n",
      "Processing Record 448 | Kirovskiy\n",
      "Processing Record 449 | Mareeba\n",
      "Processing Record 450 | Belaya Gora\n",
      "Processing Record 451 | Hirara\n",
      "Processing Record 452 | Bāneh\n",
      "Processing Record 453 | Tarko-Sale\n",
      "Processing Record 454 | Urucurituba\n"
     ]
    },
    {
     "name": "stdout",
     "output_type": "stream",
     "text": [
      "Processing Record 455 | Dali\n",
      "Processing Record 456 | Kudahuvadhoo\n",
      "Processing Record 457 | Laramie\n",
      "Processing Record 458 | Manadhoo\n",
      "City not found. Skipping...\n",
      "Processing Record 459 | Rūdbār\n",
      "Processing Record 460 | Yaan\n",
      "Processing Record 461 | Berdigestyakh\n",
      "Processing Record 462 | Santa Vitória do Palmar\n",
      "Processing Record 463 | Miquelon\n",
      "Processing Record 464 | Sarangani\n",
      "Processing Record 465 | Stornoway\n",
      "Processing Record 466 | Vytegra\n",
      "Processing Record 467 | Robe\n",
      "Processing Record 468 | El Carmen\n",
      "City not found. Skipping...\n",
      "Processing Record 469 | Woodward\n",
      "Processing Record 470 | Broome\n",
      "Processing Record 471 | Moen\n",
      "Processing Record 472 | Manaure\n",
      "Processing Record 473 | Poronaysk\n",
      "Processing Record 474 | Isangel\n",
      "Processing Record 475 | La Ciotat\n",
      "City not found. Skipping...\n",
      "Processing Record 476 | Nhulunbuy\n",
      "Processing Record 477 | Palmer\n",
      "Processing Record 478 | Byron Bay\n",
      "Processing Record 479 | Tignère\n",
      "Processing Record 480 | Yanam\n",
      "Processing Record 481 | Santa Inês\n",
      "Processing Record 482 | Kokino\n",
      "Processing Record 483 | Koumac\n",
      "Processing Record 484 | Tessalit\n",
      "Processing Record 485 | Kununurra\n",
      "Processing Record 486 | Holboca\n",
      "Processing Record 487 | Amvrosiyivka\n",
      "City not found. Skipping...\n",
      "Processing Record 488 | Batagay\n",
      "Processing Record 489 | Gaya\n",
      "Processing Record 490 | Abakaliki\n",
      "Processing Record 491 | Bonfim\n",
      "Processing Record 492 | North Bend\n",
      "Processing Record 493 | Trat\n",
      "Processing Record 494 | Carlsbad\n",
      "City not found. Skipping...\n",
      "Processing Record 495 | Ordzhonīkīdze\n",
      "Processing Record 496 | Baranchinskiy\n",
      "Processing Record 497 | Tamandaré\n",
      "Processing Record 498 | Margate\n",
      "Processing Record 499 | Dalvik\n",
      "Processing Record 500 | Rundu\n",
      "Processing Record 501 | Vostok\n",
      "Processing Record 502 | Ostrovnoy\n",
      "Processing Record 503 | Lensk\n",
      "Processing Record 504 | Ballina\n",
      "Processing Record 505 | Ust'-Barguzin\n",
      "Processing Record 506 | Hay River\n",
      "Processing Record 507 | Novaya Ladoga\n",
      "Processing Record 508 | Morón\n",
      "City not found. Skipping...\n",
      "Processing Record 509 | Grindavik\n",
      "Processing Record 510 | Acapulco de Juárez\n",
      "Processing Record 511 | Wasilla\n",
      "Processing Record 512 | Yangi Marg`ilon\n",
      "Processing Record 513 | St. Pete Beach\n",
      "City not found. Skipping...\n",
      "Processing Record 514 | Darhan\n",
      "Processing Record 515 | Córdoba\n",
      "Processing Record 516 | Hervey Bay\n",
      "Processing Record 517 | Nyurba\n",
      "Processing Record 518 | Samarai\n",
      "Processing Record 519 | Huancavelica\n",
      "Processing Record 520 | Lagoa\n",
      "Processing Record 521 | Lázaro Cárdenas\n",
      "Processing Record 522 | Alyangula\n",
      "Processing Record 523 | Port Keats\n",
      "Processing Record 524 | Camacha\n",
      "Processing Record 525 | Staryy Nadym\n",
      "Processing Record 526 | Bilma\n",
      "Processing Record 527 | Ainring\n",
      "Processing Record 528 | Fomboni\n",
      "Processing Record 529 | Naze\n",
      "Processing Record 530 | Huangmei\n",
      "Processing Record 531 | Handiā\n",
      "Processing Record 532 | Súchil\n",
      "Processing Record 533 | Santa Maria\n",
      "Processing Record 534 | Pilar\n",
      "Processing Record 535 | Pevek\n",
      "Processing Record 536 | Harda\n",
      "Processing Record 537 | Cottonwood\n",
      "Processing Record 538 | Quelimane\n",
      "Processing Record 539 | Paamiut\n",
      "City not found. Skipping...\n",
      "Processing Record 540 | Lingyuan\n",
      "Processing Record 541 | Khasan\n",
      "Processing Record 542 | Sokolo\n",
      "Processing Record 543 | Maningrida\n",
      "Processing Record 544 | Necochea\n",
      "Processing Record 545 | Rome\n",
      "Processing Record 546 | Mana\n",
      "Processing Record 547 | Uíge\n",
      "Processing Record 548 | Humberto de Campos\n",
      "Processing Record 549 | Lokomotivnyy\n",
      "Processing Record 550 | Quirinópolis\n",
      "Processing Record 551 | Taltal\n",
      "Processing Record 552 | Chul'man\n",
      "-------------------------------\n",
      "Data Retrieval Complete\n",
      "-------------------------------\n"
     ]
    }
   ],
   "source": [
    "# Day 2 - 06-Python-APIs \n",
    "# Day 2 - 10-Stu_API_Exceptions/Solved/api_exceptions.ipynb\n",
    "\n",
    "# Set up lists to hold response info\n",
    "city_name = []\n",
    "lat = []\n",
    "lon = []\n",
    "max_temp = []\n",
    "humidity = []\n",
    "cloudiness = []\n",
    "wind_speed = []\n",
    "country = []\n",
    "date = []\n",
    "\n",
    "# Start processing record at 1\n",
    "index = 1\n",
    "\n",
    "# Print beginning statement\n",
    "print(f\"Beginning Data Retrieval\")\n",
    "print(f\"-------------------------------\")\n",
    "\n",
    "# Loop through each city\n",
    "for city in cities:\n",
    "    \n",
    "    # Search Query \n",
    "    response = requests.get(query_url + city).json()\n",
    "    \n",
    "    try:\n",
    "        city_name.append(response['name'])\n",
    "        lat.append(response['coord']['lat'])\n",
    "        lon.append(response['coord']['lon'])\n",
    "        max_temp.append(response['main']['temp_max'])\n",
    "        humidity.append(response['main']['humidity'])\n",
    "        cloudiness.append(response['clouds']['all'])\n",
    "        wind_speed.append(response['wind']['speed'])\n",
    "        country.append(response['sys']['country'])\n",
    "        date.append(response['dt'])\n",
    "        process_record = response[\"name\"]\n",
    "        print(f\"Processing Record {index} | {process_record}\")\n",
    "        \n",
    "        index = index + 1\n",
    "    \n",
    "    except:\n",
    "        print(f\"City not found. Skipping...\")\n",
    "    pass\n",
    "    \n",
    "\n",
    "#Print end statement\n",
    "print(f\"-------------------------------\")\n",
    "print(f\"Data Retrieval Complete\")\n",
    "print(f\"-------------------------------\")\n"
   ]
  },
  {
   "cell_type": "markdown",
   "metadata": {},
   "source": [
    "### Convert Raw Data to DataFrame\n",
    "* Export the city data into a .csv.\n",
    "* Display the DataFrame"
   ]
  },
  {
   "cell_type": "code",
   "execution_count": 19,
   "metadata": {},
   "outputs": [
    {
     "data": {
      "text/html": [
       "<div>\n",
       "<style scoped>\n",
       "    .dataframe tbody tr th:only-of-type {\n",
       "        vertical-align: middle;\n",
       "    }\n",
       "\n",
       "    .dataframe tbody tr th {\n",
       "        vertical-align: top;\n",
       "    }\n",
       "\n",
       "    .dataframe thead th {\n",
       "        text-align: right;\n",
       "    }\n",
       "</style>\n",
       "<table border=\"1\" class=\"dataframe\">\n",
       "  <thead>\n",
       "    <tr style=\"text-align: right;\">\n",
       "      <th></th>\n",
       "      <th>City</th>\n",
       "      <th>Lat</th>\n",
       "      <th>Lng</th>\n",
       "      <th>Max Temp</th>\n",
       "      <th>Humidity</th>\n",
       "      <th>Cloudiness</th>\n",
       "      <th>Wind Speed</th>\n",
       "      <th>Country</th>\n",
       "      <th>Date</th>\n",
       "    </tr>\n",
       "    <tr>\n",
       "      <th>City_ID</th>\n",
       "      <th></th>\n",
       "      <th></th>\n",
       "      <th></th>\n",
       "      <th></th>\n",
       "      <th></th>\n",
       "      <th></th>\n",
       "      <th></th>\n",
       "      <th></th>\n",
       "      <th></th>\n",
       "    </tr>\n",
       "  </thead>\n",
       "  <tbody>\n",
       "    <tr>\n",
       "      <th>0</th>\n",
       "      <td>Mirny</td>\n",
       "      <td>62.5353</td>\n",
       "      <td>113.9611</td>\n",
       "      <td>-26.50</td>\n",
       "      <td>97</td>\n",
       "      <td>100</td>\n",
       "      <td>1.09</td>\n",
       "      <td>RU</td>\n",
       "      <td>1645069569</td>\n",
       "    </tr>\n",
       "    <tr>\n",
       "      <th>1</th>\n",
       "      <td>Geraldton</td>\n",
       "      <td>-28.7667</td>\n",
       "      <td>114.6000</td>\n",
       "      <td>40.23</td>\n",
       "      <td>10</td>\n",
       "      <td>0</td>\n",
       "      <td>10.29</td>\n",
       "      <td>AU</td>\n",
       "      <td>1645069569</td>\n",
       "    </tr>\n",
       "    <tr>\n",
       "      <th>2</th>\n",
       "      <td>Cabo San Lucas</td>\n",
       "      <td>22.8909</td>\n",
       "      <td>-109.9124</td>\n",
       "      <td>21.61</td>\n",
       "      <td>63</td>\n",
       "      <td>33</td>\n",
       "      <td>5.65</td>\n",
       "      <td>MX</td>\n",
       "      <td>1645069319</td>\n",
       "    </tr>\n",
       "    <tr>\n",
       "      <th>3</th>\n",
       "      <td>Cayenne</td>\n",
       "      <td>4.9333</td>\n",
       "      <td>-52.3333</td>\n",
       "      <td>26.16</td>\n",
       "      <td>84</td>\n",
       "      <td>75</td>\n",
       "      <td>1.54</td>\n",
       "      <td>GF</td>\n",
       "      <td>1645069547</td>\n",
       "    </tr>\n",
       "    <tr>\n",
       "      <th>4</th>\n",
       "      <td>Nang Rong</td>\n",
       "      <td>14.6377</td>\n",
       "      <td>102.7914</td>\n",
       "      <td>28.20</td>\n",
       "      <td>62</td>\n",
       "      <td>60</td>\n",
       "      <td>3.24</td>\n",
       "      <td>TH</td>\n",
       "      <td>1645069570</td>\n",
       "    </tr>\n",
       "  </tbody>\n",
       "</table>\n",
       "</div>"
      ],
      "text/plain": [
       "                   City      Lat       Lng  Max Temp  Humidity  Cloudiness  \\\n",
       "City_ID                                                                      \n",
       "0                 Mirny  62.5353  113.9611    -26.50        97         100   \n",
       "1             Geraldton -28.7667  114.6000     40.23        10           0   \n",
       "2        Cabo San Lucas  22.8909 -109.9124     21.61        63          33   \n",
       "3               Cayenne   4.9333  -52.3333     26.16        84          75   \n",
       "4             Nang Rong  14.6377  102.7914     28.20        62          60   \n",
       "\n",
       "         Wind Speed Country        Date  \n",
       "City_ID                                  \n",
       "0              1.09      RU  1645069569  \n",
       "1             10.29      AU  1645069569  \n",
       "2              5.65      MX  1645069319  \n",
       "3              1.54      GF  1645069547  \n",
       "4              3.24      TH  1645069570  "
      ]
     },
     "execution_count": 19,
     "metadata": {},
     "output_type": "execute_result"
    }
   ],
   "source": [
    "# Reference: https://www.kite.com/python/answers/how-to-set-the-index-title-of-a-pandas-dataframe-in-python\n",
    "\n",
    "# Place all of the data found into a summary DataFrame\n",
    "city_df = pd.DataFrame({\"City\": city_name, \"Lat\": lat, \"Lng\": lon, \"Max Temp\": max_temp, \"Humidity\": humidity, \"Cloudiness\": cloudiness, \n",
    "                   \"Wind Speed\": wind_speed, \"Country\": country, \"Date\": date})\n",
    "index = city_df.index\n",
    "index.name = \"City_ID\"\n",
    "city_df.head()"
   ]
  },
  {
   "cell_type": "code",
   "execution_count": 20,
   "metadata": {},
   "outputs": [],
   "source": [
    "# Export file as a CSV, with index, and with the header\n",
    "city_df.to_csv(\"../WeatherPy/cities.csv\", index=True, header=True)"
   ]
  },
  {
   "cell_type": "code",
   "execution_count": 40,
   "metadata": {},
   "outputs": [
    {
     "data": {
      "text/html": [
       "<div>\n",
       "<style scoped>\n",
       "    .dataframe tbody tr th:only-of-type {\n",
       "        vertical-align: middle;\n",
       "    }\n",
       "\n",
       "    .dataframe tbody tr th {\n",
       "        vertical-align: top;\n",
       "    }\n",
       "\n",
       "    .dataframe thead th {\n",
       "        text-align: right;\n",
       "    }\n",
       "</style>\n",
       "<table border=\"1\" class=\"dataframe\">\n",
       "  <thead>\n",
       "    <tr style=\"text-align: right;\">\n",
       "      <th></th>\n",
       "      <th>Lat</th>\n",
       "      <th>Lng</th>\n",
       "      <th>Max Temp</th>\n",
       "      <th>Humidity</th>\n",
       "      <th>Cloudiness</th>\n",
       "      <th>Wind Speed</th>\n",
       "      <th>Date</th>\n",
       "    </tr>\n",
       "  </thead>\n",
       "  <tbody>\n",
       "    <tr>\n",
       "      <th>count</th>\n",
       "      <td>552.000000</td>\n",
       "      <td>552.000000</td>\n",
       "      <td>552.000000</td>\n",
       "      <td>552.000000</td>\n",
       "      <td>552.000000</td>\n",
       "      <td>552.000000</td>\n",
       "      <td>5.520000e+02</td>\n",
       "    </tr>\n",
       "    <tr>\n",
       "      <th>mean</th>\n",
       "      <td>18.451022</td>\n",
       "      <td>17.652165</td>\n",
       "      <td>11.341033</td>\n",
       "      <td>73.298913</td>\n",
       "      <td>57.940217</td>\n",
       "      <td>3.837482</td>\n",
       "      <td>1.645070e+09</td>\n",
       "    </tr>\n",
       "    <tr>\n",
       "      <th>std</th>\n",
       "      <td>33.518844</td>\n",
       "      <td>88.805725</td>\n",
       "      <td>17.076444</td>\n",
       "      <td>20.053363</td>\n",
       "      <td>39.274432</td>\n",
       "      <td>2.697578</td>\n",
       "      <td>2.792517e+02</td>\n",
       "    </tr>\n",
       "    <tr>\n",
       "      <th>min</th>\n",
       "      <td>-54.800000</td>\n",
       "      <td>-175.200000</td>\n",
       "      <td>-35.870000</td>\n",
       "      <td>10.000000</td>\n",
       "      <td>0.000000</td>\n",
       "      <td>0.000000</td>\n",
       "      <td>1.645069e+09</td>\n",
       "    </tr>\n",
       "    <tr>\n",
       "      <th>25%</th>\n",
       "      <td>-9.639575</td>\n",
       "      <td>-58.931775</td>\n",
       "      <td>0.885000</td>\n",
       "      <td>64.000000</td>\n",
       "      <td>19.000000</td>\n",
       "      <td>1.822500</td>\n",
       "      <td>1.645070e+09</td>\n",
       "    </tr>\n",
       "    <tr>\n",
       "      <th>50%</th>\n",
       "      <td>20.608450</td>\n",
       "      <td>19.771350</td>\n",
       "      <td>17.170000</td>\n",
       "      <td>77.000000</td>\n",
       "      <td>70.500000</td>\n",
       "      <td>3.090000</td>\n",
       "      <td>1.645070e+09</td>\n",
       "    </tr>\n",
       "    <tr>\n",
       "      <th>75%</th>\n",
       "      <td>46.532525</td>\n",
       "      <td>90.226750</td>\n",
       "      <td>24.687500</td>\n",
       "      <td>89.000000</td>\n",
       "      <td>99.000000</td>\n",
       "      <td>5.462500</td>\n",
       "      <td>1.645070e+09</td>\n",
       "    </tr>\n",
       "    <tr>\n",
       "      <th>max</th>\n",
       "      <td>78.218600</td>\n",
       "      <td>179.316700</td>\n",
       "      <td>41.040000</td>\n",
       "      <td>100.000000</td>\n",
       "      <td>100.000000</td>\n",
       "      <td>18.850000</td>\n",
       "      <td>1.645071e+09</td>\n",
       "    </tr>\n",
       "  </tbody>\n",
       "</table>\n",
       "</div>"
      ],
      "text/plain": [
       "              Lat         Lng    Max Temp    Humidity  Cloudiness  Wind Speed  \\\n",
       "count  552.000000  552.000000  552.000000  552.000000  552.000000  552.000000   \n",
       "mean    18.451022   17.652165   11.341033   73.298913   57.940217    3.837482   \n",
       "std     33.518844   88.805725   17.076444   20.053363   39.274432    2.697578   \n",
       "min    -54.800000 -175.200000  -35.870000   10.000000    0.000000    0.000000   \n",
       "25%     -9.639575  -58.931775    0.885000   64.000000   19.000000    1.822500   \n",
       "50%     20.608450   19.771350   17.170000   77.000000   70.500000    3.090000   \n",
       "75%     46.532525   90.226750   24.687500   89.000000   99.000000    5.462500   \n",
       "max     78.218600  179.316700   41.040000  100.000000  100.000000   18.850000   \n",
       "\n",
       "               Date  \n",
       "count  5.520000e+02  \n",
       "mean   1.645070e+09  \n",
       "std    2.792517e+02  \n",
       "min    1.645069e+09  \n",
       "25%    1.645070e+09  \n",
       "50%    1.645070e+09  \n",
       "75%    1.645070e+09  \n",
       "max    1.645071e+09  "
      ]
     },
     "execution_count": 40,
     "metadata": {},
     "output_type": "execute_result"
    }
   ],
   "source": [
    "# Display a statistical overview of the DataFrame\n",
    "stats = city_df.describe()\n",
    "stats"
   ]
  },
  {
   "cell_type": "markdown",
   "metadata": {},
   "source": [
    "## Inspect the data and remove the cities where the humidity > 100%.\n",
    "----\n",
    "Skip this step if there are no cities that have humidity > 100%. "
   ]
  },
  {
   "cell_type": "code",
   "execution_count": 68,
   "metadata": {},
   "outputs": [],
   "source": [
    "# Get cities where humidity is less than 100\n",
    "# cities_humidity_under_100 = city_df.loc[city_df[\"Humidity\"] < 100]\n",
    "# cities_humidity_under_100.head()\n",
    "\n",
    "# Skipped since there are no cities that have humidity > 100%"
   ]
  },
  {
   "cell_type": "code",
   "execution_count": 38,
   "metadata": {},
   "outputs": [
    {
     "data": {
      "text/plain": [
       "Int64Index([], dtype='int64', name='City_ID')"
      ]
     },
     "execution_count": 38,
     "metadata": {},
     "output_type": "execute_result"
    }
   ],
   "source": [
    "# Get the indices of cities that have humidity over 100%.\n",
    "# cities_humidity_over_100 = city_df.loc[city_df[\"Humidity\"] > 100].index\n",
    "# cities_humidity_over_100\n",
    "\n",
    "# Skipped since there are no cities that have humidity > 100%"
   ]
  },
  {
   "cell_type": "code",
   "execution_count": 41,
   "metadata": {},
   "outputs": [],
   "source": [
    "# Make a new DataFrame equal to the city data to drop all humidity outliers by index.\n",
    "# Passing \"inplace=False\" will make a copy of the city_data DataFrame, which we call \"clean_city_data\".\n",
    "# clean_city_data = city_df.drop(cities_humidity_over_100, inplace = False)\n",
    "# clean_city_data.head()\n",
    "\n",
    "# Skipped since there are no cities that have humidity > 100%"
   ]
  },
  {
   "cell_type": "markdown",
   "metadata": {},
   "source": [
    "## Plotting the Data\n",
    "* Use proper labeling of the plots using plot titles (including date of analysis) and axes labels.\n",
    "* Save the plotted figures as .pngs."
   ]
  },
  {
   "cell_type": "markdown",
   "metadata": {},
   "source": [
    "## Latitude vs. Temperature Plot"
   ]
  },
  {
   "cell_type": "code",
   "execution_count": 63,
   "metadata": {},
   "outputs": [
    {
     "data": {
      "image/png": "[encoded data removed]",
      "text/plain": [
       "<Figure size 432x288 with 1 Axes>"
      ]
     },
     "metadata": {
      "needs_background": "light"
     },
     "output_type": "display_data"
    }
   ],
   "source": [
    "# Plot out latitude versus max temperature\n",
    "plt.scatter(city_df[\"Lat\"], city_df[\"Max Temp\"], facecolors=\"purple\", marker=\"o\", edgecolor=\"darkblue\")\n",
    "\n",
    "# Add labels\n",
    "plt.title(\"City Latitude vs. Max Temperature (02/16/22)\")\n",
    "plt.xlabel(\"Latitude\")\n",
    "plt.ylabel(\"Max Temperature(F)\")\n",
    "\n",
    "# Save Figure\n",
    "plt.savefig(\"Charts/City_Latitude_vs_Max_Temperature.png\")\n",
    "\n",
    "# Show Plot\n",
    "plt.show()"
   ]
  },
  {
   "cell_type": "markdown",
   "metadata": {},
   "source": [
    "The code is analyzing the correlation between latitude and max temperature."
   ]
  },
  {
   "cell_type": "markdown",
   "metadata": {},
   "source": [
    "## Latitude vs. Humidity Plot"
   ]
  },
  {
   "cell_type": "code",
   "execution_count": 64,
   "metadata": {},
   "outputs": [
    {
     "data": {
      "image/png": "[encoded data removed]",
      "text/plain": [
       "<Figure size 432x288 with 1 Axes>"
      ]
     },
     "metadata": {
      "needs_background": "light"
     },
     "output_type": "display_data"
    }
   ],
   "source": [
    "# Plot out latitude versus humidity\n",
    "plt.scatter(city_df[\"Lat\"], city_df[\"Humidity\"], facecolors=\"purple\", marker=\"o\", edgecolor=\"darkblue\")\n",
    "\n",
    "# Add labels\n",
    "plt.title(\"City Latitude vs. Humidity (02/16/22)\")\n",
    "plt.xlabel(\"Latitude\")\n",
    "plt.ylabel(\"Humidity(%)\")\n",
    "\n",
    "# Save Figure\n",
    "plt.savefig(\"Charts/City_Latitude_vs_Humidity.png\")\n",
    "\n",
    "# Show Plot\n",
    "plt.show()"
   ]
  },
  {
   "cell_type": "markdown",
   "metadata": {},
   "source": [
    "The code is analyzing the correlation between latitude and humidity."
   ]
  },
  {
   "cell_type": "markdown",
   "metadata": {},
   "source": [
    "## Latitude vs. Cloudiness Plot"
   ]
  },
  {
   "cell_type": "code",
   "execution_count": 65,
   "metadata": {},
   "outputs": [
    {
     "data": {
      "image/png": "[encoded data removed]",
      "text/plain": [
       "<Figure size 432x288 with 1 Axes>"
      ]
     },
     "metadata": {
      "needs_background": "light"
     },
     "output_type": "display_data"
    }
   ],
   "source": [
    "# Plot out latitude versus cloudiness\n",
    "plt.scatter(city_df[\"Lat\"], city_df[\"Cloudiness\"], facecolors=\"purple\", marker=\"o\", edgecolors=\"darkblue\")\n",
    "\n",
    "# Add labels\n",
    "plt.title(\"City Latitude vs. Cloudiness (02/16/22)\")\n",
    "plt.xlabel(\"Latitude\")\n",
    "plt.ylabel(\"Cloudiness(%)\")\n",
    "\n",
    "# Save Figure\n",
    "plt.savefig(\"Charts/City_Latitude_vs_Cloudiness.png\")\n",
    "\n",
    "# Show Plot\n",
    "plt.show()"
   ]
  },
  {
   "cell_type": "markdown",
   "metadata": {},
   "source": [
    "The code is analyzing the correlation between latitude and cloudiness."
   ]
  },
  {
   "cell_type": "markdown",
   "metadata": {},
   "source": [
    "## Latitude vs. Wind Speed Plot"
   ]
  },
  {
   "cell_type": "code",
   "execution_count": 66,
   "metadata": {},
   "outputs": [
    {
     "data": {
      "image/png": "[encoded data removed]",
      "text/plain": [
       "<Figure size 432x288 with 1 Axes>"
      ]
     },
     "metadata": {
      "needs_background": "light"
     },
     "output_type": "display_data"
    }
   ],
   "source": [
    "# Plot out latitude versus cloudiness\n",
    "plt.scatter(city_df[\"Lat\"], city_df[\"Wind Speed\"], facecolors=\"purple\", marker=\"o\", edgecolors=\"darkblue\")\n",
    "\n",
    "# Add labels\n",
    "plt.title(\"City Latitude vs. Wind Speed (02/15/22)\")\n",
    "plt.xlabel(\"Latitude\")\n",
    "plt.ylabel(\"Wind Speed(mph)\")\n",
    "\n",
    "# Save Figure\n",
    "plt.savefig(\"Charts/City_Latitude_vs_Wind_Speed.png\")\n",
    "\n",
    "# Show Plot\n",
    "plt.show()"
   ]
  },
  {
   "cell_type": "markdown",
   "metadata": {},
   "source": [
    "The code is analyzing the correlation between latitude and wind speed."
   ]
  },
  {
   "cell_type": "markdown",
   "metadata": {},
   "source": [
    "## Linear Regression"
   ]
  },
  {
   "cell_type": "code",
   "execution_count": 80,
   "metadata": {},
   "outputs": [
    {
     "data": {
      "text/html": [
       "<div>\n",
       "<style scoped>\n",
       "    .dataframe tbody tr th:only-of-type {\n",
       "        vertical-align: middle;\n",
       "    }\n",
       "\n",
       "    .dataframe tbody tr th {\n",
       "        vertical-align: top;\n",
       "    }\n",
       "\n",
       "    .dataframe thead th {\n",
       "        text-align: right;\n",
       "    }\n",
       "</style>\n",
       "<table border=\"1\" class=\"dataframe\">\n",
       "  <thead>\n",
       "    <tr style=\"text-align: right;\">\n",
       "      <th></th>\n",
       "      <th>City</th>\n",
       "      <th>Lat</th>\n",
       "      <th>Lng</th>\n",
       "      <th>Max Temp</th>\n",
       "      <th>Humidity</th>\n",
       "      <th>Cloudiness</th>\n",
       "      <th>Wind Speed</th>\n",
       "      <th>Country</th>\n",
       "      <th>Date</th>\n",
       "    </tr>\n",
       "    <tr>\n",
       "      <th>City_ID</th>\n",
       "      <th></th>\n",
       "      <th></th>\n",
       "      <th></th>\n",
       "      <th></th>\n",
       "      <th></th>\n",
       "      <th></th>\n",
       "      <th></th>\n",
       "      <th></th>\n",
       "      <th></th>\n",
       "    </tr>\n",
       "  </thead>\n",
       "  <tbody>\n",
       "    <tr>\n",
       "      <th>0</th>\n",
       "      <td>Mirny</td>\n",
       "      <td>62.5353</td>\n",
       "      <td>113.9611</td>\n",
       "      <td>-26.50</td>\n",
       "      <td>97</td>\n",
       "      <td>100</td>\n",
       "      <td>1.09</td>\n",
       "      <td>RU</td>\n",
       "      <td>1645069569</td>\n",
       "    </tr>\n",
       "    <tr>\n",
       "      <th>2</th>\n",
       "      <td>Cabo San Lucas</td>\n",
       "      <td>22.8909</td>\n",
       "      <td>-109.9124</td>\n",
       "      <td>21.61</td>\n",
       "      <td>63</td>\n",
       "      <td>33</td>\n",
       "      <td>5.65</td>\n",
       "      <td>MX</td>\n",
       "      <td>1645069319</td>\n",
       "    </tr>\n",
       "    <tr>\n",
       "      <th>3</th>\n",
       "      <td>Cayenne</td>\n",
       "      <td>4.9333</td>\n",
       "      <td>-52.3333</td>\n",
       "      <td>26.16</td>\n",
       "      <td>84</td>\n",
       "      <td>75</td>\n",
       "      <td>1.54</td>\n",
       "      <td>GF</td>\n",
       "      <td>1645069547</td>\n",
       "    </tr>\n",
       "  </tbody>\n",
       "</table>\n",
       "</div>"
      ],
      "text/plain": [
       "                   City      Lat       Lng  Max Temp  Humidity  Cloudiness  \\\n",
       "City_ID                                                                      \n",
       "0                 Mirny  62.5353  113.9611    -26.50        97         100   \n",
       "2        Cabo San Lucas  22.8909 -109.9124     21.61        63          33   \n",
       "3               Cayenne   4.9333  -52.3333     26.16        84          75   \n",
       "\n",
       "         Wind Speed Country        Date  \n",
       "City_ID                                  \n",
       "0              1.09      RU  1645069569  \n",
       "2              5.65      MX  1645069319  \n",
       "3              1.54      GF  1645069547  "
      ]
     },
     "execution_count": 80,
     "metadata": {},
     "output_type": "execute_result"
    }
   ],
   "source": [
    "# Data for northern hemisphere (latitude)\n",
    "north_hemi = city_df.loc[city_df[\"Lat\"] >= 0.00]\n",
    "north_hemi.head(3)"
   ]
  },
  {
   "cell_type": "markdown",
   "metadata": {},
   "source": [
    "####  Northern Hemisphere - Max Temp vs. Latitude Linear Regression"
   ]
  },
  {
   "cell_type": "code",
   "execution_count": 121,
   "metadata": {},
   "outputs": [
    {
     "data": {
      "image/png": "[encoded data removed]",
      "text/plain": [
       "<Figure size 432x288 with 1 Axes>"
      ]
     },
     "metadata": {
      "needs_background": "light"
     },
     "output_type": "display_data"
    },
    {
     "name": "stdout",
     "output_type": "stream",
     "text": [
      "The r-value is: -0.8730243016224122\n"
     ]
    }
   ],
   "source": [
    "# Create plot - N. Hemisphere - Max Temp vs. Latitude Linear Regression\n",
    "# Day 2 - 08 - Ins_Fits_and_Regression\n",
    "\n",
    "#Add the linear regression equation and line to plot\n",
    "x_values = north_hemi[\"Lat\"]\n",
    "y_values = north_hemi[\"Max Temp\"]\n",
    "(slope, intercept, rvalue, pvalue, stderr) = linregress(x_values, y_values)\n",
    "regress_values = x_values * slope + intercept\n",
    "line_eq = \"y = \" + str(round(slope,2)) + \"x + \" + str(round(intercept,2))\n",
    "plt.scatter(x_values,y_values)\n",
    "plt.plot(x_values,regress_values,\"r-\")\n",
    "plt.annotate(line_eq,(0,-30),fontsize=10,color=\"red\")\n",
    "plt.xlabel(\"Latitude\")\n",
    "plt.ylabel(\"Max Temp\")\n",
    "plt.show()\n",
    "\n",
    "print(f\"The r-value is: {rvalue}\")"
   ]
  },
  {
   "cell_type": "markdown",
   "metadata": {},
   "source": [
    "####  Southern Hemisphere - Max Temp vs. Latitude Linear Regression"
   ]
  },
  {
   "cell_type": "code",
   "execution_count": 82,
   "metadata": {},
   "outputs": [
    {
     "data": {
      "text/html": [
       "<div>\n",
       "<style scoped>\n",
       "    .dataframe tbody tr th:only-of-type {\n",
       "        vertical-align: middle;\n",
       "    }\n",
       "\n",
       "    .dataframe tbody tr th {\n",
       "        vertical-align: top;\n",
       "    }\n",
       "\n",
       "    .dataframe thead th {\n",
       "        text-align: right;\n",
       "    }\n",
       "</style>\n",
       "<table border=\"1\" class=\"dataframe\">\n",
       "  <thead>\n",
       "    <tr style=\"text-align: right;\">\n",
       "      <th></th>\n",
       "      <th>City</th>\n",
       "      <th>Lat</th>\n",
       "      <th>Lng</th>\n",
       "      <th>Max Temp</th>\n",
       "      <th>Humidity</th>\n",
       "      <th>Cloudiness</th>\n",
       "      <th>Wind Speed</th>\n",
       "      <th>Country</th>\n",
       "      <th>Date</th>\n",
       "    </tr>\n",
       "    <tr>\n",
       "      <th>City_ID</th>\n",
       "      <th></th>\n",
       "      <th></th>\n",
       "      <th></th>\n",
       "      <th></th>\n",
       "      <th></th>\n",
       "      <th></th>\n",
       "      <th></th>\n",
       "      <th></th>\n",
       "      <th></th>\n",
       "    </tr>\n",
       "  </thead>\n",
       "  <tbody>\n",
       "    <tr>\n",
       "      <th>1</th>\n",
       "      <td>Geraldton</td>\n",
       "      <td>-28.7667</td>\n",
       "      <td>114.6000</td>\n",
       "      <td>40.23</td>\n",
       "      <td>10</td>\n",
       "      <td>0</td>\n",
       "      <td>10.29</td>\n",
       "      <td>AU</td>\n",
       "      <td>1645069569</td>\n",
       "    </tr>\n",
       "    <tr>\n",
       "      <th>5</th>\n",
       "      <td>New Norfolk</td>\n",
       "      <td>-42.7826</td>\n",
       "      <td>147.0587</td>\n",
       "      <td>24.40</td>\n",
       "      <td>25</td>\n",
       "      <td>2</td>\n",
       "      <td>3.13</td>\n",
       "      <td>AU</td>\n",
       "      <td>1645069571</td>\n",
       "    </tr>\n",
       "    <tr>\n",
       "      <th>6</th>\n",
       "      <td>Seddon</td>\n",
       "      <td>-37.8068</td>\n",
       "      <td>144.8916</td>\n",
       "      <td>27.04</td>\n",
       "      <td>54</td>\n",
       "      <td>100</td>\n",
       "      <td>5.66</td>\n",
       "      <td>AU</td>\n",
       "      <td>1645069571</td>\n",
       "    </tr>\n",
       "  </tbody>\n",
       "</table>\n",
       "</div>"
      ],
      "text/plain": [
       "                City      Lat       Lng  Max Temp  Humidity  Cloudiness  \\\n",
       "City_ID                                                                   \n",
       "1          Geraldton -28.7667  114.6000     40.23        10           0   \n",
       "5        New Norfolk -42.7826  147.0587     24.40        25           2   \n",
       "6             Seddon -37.8068  144.8916     27.04        54         100   \n",
       "\n",
       "         Wind Speed Country        Date  \n",
       "City_ID                                  \n",
       "1             10.29      AU  1645069569  \n",
       "5              3.13      AU  1645069571  \n",
       "6              5.66      AU  1645069571  "
      ]
     },
     "execution_count": 82,
     "metadata": {},
     "output_type": "execute_result"
    }
   ],
   "source": [
    "# Dataframe for southern hemisphere (latitude)\n",
    "south_hemi = city_df.loc[city_df[\"Lat\"] < 0.00]\n",
    "south_hemi.head(3)"
   ]
  },
  {
   "cell_type": "code",
   "execution_count": 122,
   "metadata": {},
   "outputs": [
    {
     "data": {
      "image/png": "[encoded data removed]",
      "text/plain": [
       "<Figure size 432x288 with 1 Axes>"
      ]
     },
     "metadata": {
      "needs_background": "light"
     },
     "output_type": "display_data"
    },
    {
     "name": "stdout",
     "output_type": "stream",
     "text": [
      "The r-value is: 0.34364651415113456\n"
     ]
    }
   ],
   "source": [
    "#Add the linear regression equation and line to plot\n",
    "x_values = south_hemi[\"Lat\"]\n",
    "y_values = south_hemi[\"Max Temp\"]\n",
    "(slope, intercept, rvalue, pvalue, stderr) = linregress(x_values, y_values)\n",
    "regress_values = x_values * slope + intercept\n",
    "line_eq = \"y = \" + str(round(slope,2)) + \"x + \" + str(round(intercept,2))\n",
    "plt.scatter(x_values,y_values)\n",
    "plt.plot(x_values,regress_values,\"r-\")\n",
    "plt.annotate(line_eq,(-50,5),fontsize=10,color=\"red\")\n",
    "plt.xlabel(\"Latitude\")\n",
    "plt.ylabel(\"Max Temp\")\n",
    "plt.show()\n",
    "\n",
    "print(f\"The r-value is: {rvalue}\")"
   ]
  },
  {
   "cell_type": "markdown",
   "metadata": {},
   "source": [
    "####  Northern Hemisphere - Humidity (%) vs. Latitude Linear Regression"
   ]
  },
  {
   "cell_type": "code",
   "execution_count": 123,
   "metadata": {},
   "outputs": [
    {
     "data": {
      "image/png": "[encoded data removed]",
      "text/plain": [
       "<Figure size 432x288 with 1 Axes>"
      ]
     },
     "metadata": {
      "needs_background": "light"
     },
     "output_type": "display_data"
    },
    {
     "name": "stdout",
     "output_type": "stream",
     "text": [
      "The r-value is: 0.4191348222318816\n"
     ]
    }
   ],
   "source": [
    "#Add the linear regression equation and line to plot\n",
    "x_values = north_hemi[\"Lat\"]\n",
    "y_values = north_hemi[\"Humidity\"]\n",
    "(slope, intercept, rvalue, pvalue, stderr) = linregress(x_values, y_values)\n",
    "regress_values = x_values * slope + intercept\n",
    "line_eq = \"y = \" + str(round(slope,2)) + \"x + \" + str(round(intercept,2))\n",
    "plt.scatter(x_values,y_values)\n",
    "plt.plot(x_values,regress_values,\"r-\")\n",
    "plt.annotate(line_eq,(40,20),fontsize=10,color=\"red\")\n",
    "plt.xlabel(\"Latitude\")\n",
    "plt.ylabel(\"Humidity\")\n",
    "plt.show()\n",
    "\n",
    "print(f\"The r-value is: {rvalue}\")"
   ]
  },
  {
   "cell_type": "markdown",
   "metadata": {},
   "source": [
    "####  Southern Hemisphere - Humidity (%) vs. Latitude Linear Regression"
   ]
  },
  {
   "cell_type": "code",
   "execution_count": 124,
   "metadata": {},
   "outputs": [
    {
     "data": {
      "image/png": "[encoded data removed]",
      "text/plain": [
       "<Figure size 432x288 with 1 Axes>"
      ]
     },
     "metadata": {
      "needs_background": "light"
     },
     "output_type": "display_data"
    },
    {
     "name": "stdout",
     "output_type": "stream",
     "text": [
      "The r-value is: 0.4873856935913617\n"
     ]
    }
   ],
   "source": [
    "x_values = south_hemi[\"Lat\"]\n",
    "y_values = south_hemi[\"Humidity\"]\n",
    "(slope, intercept, rvalue, pvalue, stderr) = linregress(x_values, y_values)\n",
    "regress_values = x_values * slope + intercept\n",
    "line_eq = \"y = \" + str(round(slope,2)) + \"x + \" + str(round(intercept,2))\n",
    "plt.scatter(x_values,y_values)\n",
    "plt.plot(x_values,regress_values,\"r-\")\n",
    "plt.annotate(line_eq,(-55,10),fontsize=10,color=\"red\")\n",
    "plt.xlabel(\"Latitude\")\n",
    "plt.ylabel(\"Humidity\")\n",
    "plt.show()\n",
    "\n",
    "print(f\"The r-value is: {rvalue}\")"
   ]
  },
  {
   "cell_type": "markdown",
   "metadata": {},
   "source": [
    "####  Northern Hemisphere - Cloudiness (%) vs. Latitude Linear Regression"
   ]
  },
  {
   "cell_type": "code",
   "execution_count": 126,
   "metadata": {},
   "outputs": [
    {
     "data": {
      "image/png": "[encoded data removed]",
      "text/plain": [
       "<Figure size 432x288 with 1 Axes>"
      ]
     },
     "metadata": {
      "needs_background": "light"
     },
     "output_type": "display_data"
    },
    {
     "name": "stdout",
     "output_type": "stream",
     "text": [
      "The r-value is: 0.2896310521568656\n"
     ]
    }
   ],
   "source": [
    "x_values = north_hemi[\"Lat\"]\n",
    "y_values = north_hemi[\"Cloudiness\"]\n",
    "(slope, intercept, rvalue, pvalue, stderr) = linregress(x_values, y_values)\n",
    "regress_values = x_values * slope + intercept\n",
    "line_eq = \"y = \" + str(round(slope,2)) + \"x + \" + str(round(intercept,2))\n",
    "plt.scatter(x_values,y_values)\n",
    "plt.plot(x_values,regress_values,\"r-\")\n",
    "plt.annotate(line_eq,(50,10),fontsize=10,color=\"red\")\n",
    "plt.xlabel(\"Latitude\")\n",
    "plt.ylabel(\"Cloudiness\")\n",
    "plt.show()\n",
    "\n",
    "print(f\"The r-value is: {rvalue}\")"
   ]
  },
  {
   "cell_type": "markdown",
   "metadata": {},
   "source": [
    "####  Southern Hemisphere - Cloudiness (%) vs. Latitude Linear Regression"
   ]
  },
  {
   "cell_type": "code",
   "execution_count": 120,
   "metadata": {},
   "outputs": [
    {
     "data": {
      "image/png": "[encoded data removed]",
      "text/plain": [
       "<Figure size 432x288 with 1 Axes>"
      ]
     },
     "metadata": {
      "needs_background": "light"
     },
     "output_type": "display_data"
    },
    {
     "name": "stdout",
     "output_type": "stream",
     "text": [
      "The r-value is: 0.4997746174967905\n"
     ]
    }
   ],
   "source": [
    "x_values = south_hemi[\"Lat\"]\n",
    "y_values = south_hemi[\"Cloudiness\"]\n",
    "(slope, intercept, rvalue, pvalue, stderr) = linregress(x_values, y_values)\n",
    "regress_values = x_values * slope + intercept\n",
    "line_eq = \"y = \" + str(round(slope,2)) + \"x + \" + str(round(intercept,2))\n",
    "plt.scatter(x_values,y_values)\n",
    "plt.plot(x_values,regress_values,\"r-\")\n",
    "plt.annotate(line_eq,(-20,0),fontsize=10,color=\"red\")\n",
    "plt.xlabel(\"Latitude\")\n",
    "plt.ylabel(\"Cloudiness\")\n",
    "plt.show()\n",
    "\n",
    "print(f\"The r-value is: {rvalue}\")"
   ]
  },
  {
   "cell_type": "markdown",
   "metadata": {},
   "source": [
    "####  Northern Hemisphere - Wind Speed (mph) vs. Latitude Linear Regression"
   ]
  },
  {
   "cell_type": "code",
   "execution_count": 129,
   "metadata": {},
   "outputs": [
    {
     "data": {
      "image/png": "[encoded data removed]",
      "text/plain": [
       "<Figure size 432x288 with 1 Axes>"
      ]
     },
     "metadata": {
      "needs_background": "light"
     },
     "output_type": "display_data"
    },
    {
     "name": "stdout",
     "output_type": "stream",
     "text": [
      "The r-value is: 0.13802681814700157\n"
     ]
    }
   ],
   "source": [
    "x_values = north_hemi[\"Lat\"]\n",
    "y_values = north_hemi[\"Wind Speed\"]\n",
    "(slope, intercept, rvalue, pvalue, stderr) = linregress(x_values, y_values)\n",
    "regress_values = x_values * slope + intercept\n",
    "line_eq = \"y = \" + str(round(slope,2)) + \"x + \" + str(round(intercept,2))\n",
    "plt.scatter(x_values,y_values)\n",
    "plt.plot(x_values,regress_values,\"r-\")\n",
    "plt.annotate(line_eq,(0,15),fontsize=10,color=\"red\")\n",
    "plt.xlabel(\"Latitude\")\n",
    "plt.ylabel(\"Wind Speed\")\n",
    "plt.show()\n",
    "\n",
    "print(f\"The r-value is: {rvalue}\")"
   ]
  },
  {
   "cell_type": "markdown",
   "metadata": {},
   "source": [
    "####  Southern Hemisphere - Wind Speed (mph) vs. Latitude Linear Regression"
   ]
  },
  {
   "cell_type": "code",
   "execution_count": 130,
   "metadata": {},
   "outputs": [
    {
     "data": {
      "image/png": "[encoded data removed]",
      "text/plain": [
       "<Figure size 432x288 with 1 Axes>"
      ]
     },
     "metadata": {
      "needs_background": "light"
     },
     "output_type": "display_data"
    },
    {
     "name": "stdout",
     "output_type": "stream",
     "text": [
      "The r-value is: -0.5194806699950569\n"
     ]
    }
   ],
   "source": [
    "x_values = south_hemi[\"Lat\"]\n",
    "y_values = south_hemi[\"Wind Speed\"]\n",
    "(slope, intercept, rvalue, pvalue, stderr) = linregress(x_values, y_values)\n",
    "regress_values = x_values * slope + intercept\n",
    "line_eq = \"y = \" + str(round(slope,2)) + \"x + \" + str(round(intercept,2))\n",
    "plt.scatter(x_values,y_values)\n",
    "plt.plot(x_values,regress_values,\"r-\")\n",
    "plt.annotate(line_eq,(-50,20),fontsize=10,color=\"red\")\n",
    "plt.xlabel(\"Latitude\")\n",
    "plt.ylabel(\"Wind Speed\")\n",
    "plt.show()\n",
    "\n",
    "print(f\"The r-value is: {rvalue}\")"
   ]
  }
 ],
 "metadata": {
  "anaconda-cloud": {},
  "kernel_info": {
   "name": "python3"
  },
  "kernelspec": {
   "display_name": "Python 3 (ipykernel)",
   "language": "python",
   "name": "python3"
  },
  "language_info": {
   "codemirror_mode": {
    "name": "ipython",
    "version": 3
   },
   "file_extension": ".py",
   "mimetype": "text/x-python",
   "name": "python",
   "nbconvert_exporter": "python",
   "pygments_lexer": "ipython3",
   "version": "3.9.7"
  },
  "latex_envs": {
   "LaTeX_envs_menu_present": true,
   "autoclose": false,
   "autocomplete": true,
   "bibliofile": "biblio.bib",
   "cite_by": "apalike",
   "current_citInitial": 1,
   "eqLabelWithNumbers": true,
   "eqNumInitial": 1,
   "hotkeys": {
    "equation": "Ctrl-E",
    "itemize": "Ctrl-I"
   },
   "labels_anchors": false,
   "latex_user_defs": false,
   "report_style_numbering": false,
   "user_envs_cfg": false
  },
  "nteract": {
   "version": "0.12.3"
  }
 },
 "nbformat": 4,
 "nbformat_minor": 2
}
